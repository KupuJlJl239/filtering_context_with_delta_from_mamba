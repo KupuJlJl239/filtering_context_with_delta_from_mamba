{
 "cells": [
  {
   "cell_type": "code",
   "execution_count": 1,
   "id": "caa9a00e",
   "metadata": {},
   "outputs": [],
   "source": [
    "import torch\n",
    "from torch import nn\n",
    "import numpy as np\n",
    "from dataclasses import dataclass\n",
    "\n",
    "from matplotlib import pyplot as plt\n",
    "\n",
    "from my_mamba import Mamba, MambaConfig"
   ]
  },
  {
   "cell_type": "code",
   "execution_count": 2,
   "id": "c4ecf3da",
   "metadata": {},
   "outputs": [],
   "source": [
    "import torch\n",
    "from torch import nn\n",
    "from dataclasses import dataclass\n",
    "\n",
    "@dataclass\n",
    "class MyMambaConfig:\n",
    "    in_dict_size: int   # число допустимых входных токенов\n",
    "    out_dict_size: int  # число допустимых выходных токенов\n",
    "    # mamba_params: dict  # словарь, передаваемый в конструктор mamba \n",
    "    mamba_config: MambaConfig\n",
    "\n",
    "@dataclass\n",
    "class MyCaseConfig:\n",
    "    name: str\n",
    "    description: str\n",
    "\n",
    "    mamba_config: MyMambaConfig # полное описание главной модели (mamba)\n",
    "    generate_sample: int   # функция для генерации одного сэмпла (возвращает последовательность, целевые метки классов на выходе, и важность каждого входного токена)\n",
    "    batch_size: int     # после генерации сэмплы объединяются в батчи такого размера\n",
    "\n",
    "    # auxiliary_per_layer_classes: list\n",
    "    # auxiliary_model_classes: list  # классы моделей, принимающих все delta из слоёв mamba, и возвращающих важности каждого токена\n",
    "\n",
    "    tokens_per_training_epoch: int  # число важных токенов, необходимое для завершения одной эпохи обучения и подсчёта статистики\n",
    "    validation_tokens: int  # число важных токенов, на которых проводится валидация (эти сэмплы генерируются один раз в начале случайно)\n",
    "    validate_every_n_epochs: int  # раз в сколько тренировочных эпох надо валидироваться\n",
    "    n_training_epochs: int\n",
    "\n",
    "    # сиды генерации для воспроизводимости\n",
    "    numpy_seed: int = None\n",
    "    torch_seed: int = None\n",
    "\n",
    "\n",
    "@dataclass\n",
    "class MyLossesLogs:\n",
    "    train_losses: list\n",
    "    val_losses: list\n",
    "\n",
    "\n",
    "@dataclass\n",
    "class MyCaseLogs:\n",
    "    case_config: MyCaseConfig\n",
    "    model: nn.Module\n",
    "\n",
    "    # лоссы при обучении по эпохам (для графиков)\n",
    "    mamba_losses_logs: MyLossesLogs\n",
    "    # auxiliary_per_layer_logs: list\n",
    "    # auxiliary_losses_logs: list\n",
    "\n",
    "    # последние батчи (для просмотра их глазами)\n",
    "    last_train_batch: torch.Tensor = None\n",
    "    last_val_batch: torch.Tensor = None\n",
    "\n",
    "\n",
    "\n",
    "class MyCase:\n",
    "    def set_seeds(config: MyCaseConfig):\n",
    "        \"\"\" \n",
    "        расставляет сиды генерации в конфигурацию эксперимента для воспроизводимости\n",
    "        \"\"\"\n",
    "        if config.numpy_seed == None:\n",
    "            config.numpy_seed = np.random.seed\n",
    "        else: \n",
    "            assert isinstance(config.numpy_seed, int)\n",
    "            np.random.seed = config.numpy_seed\n",
    "\n",
    "        if config.torch_seed == None:\n",
    "            config.torch_seed = torch.seed()\n",
    "        else: \n",
    "            assert isinstance(config.torch_seed, int)\n",
    "            torch.seed(config.torch_seed)\n",
    "\n",
    "\n",
    "    def create_model(config):\n",
    "        D, M, N_in, N_out = MyCase.get_dimensions(config)\n",
    "        model = nn.Sequential(\n",
    "            nn.Embedding(N_in, D),\n",
    "            Mamba(config.mamba_config.mamba_config),\n",
    "            nn.Linear(D, N_out)\n",
    "        )\n",
    "        opt = torch.optim.Adam(model.parameters(), lr=1e-2)\n",
    "        return model, opt\n",
    "    \n",
    "\n",
    "    def generate_batch(config, device=None):\n",
    "        # in_seq, out_mask, out_seq, importance_mask = config.generate_sample()\n",
    "        # assert len(in_seq) == len(out_mask)\n",
    "        # assert len(in_seq) == len(importance_mask)\n",
    "        samples = [config.generate_sample() for _ in range(config.batch_size)]\n",
    "        batch = tuple([torch.tensor(np.stack(arr)) for arr in zip(*samples)])\n",
    "        if device is not None:\n",
    "            batch = MyCase.batch_to(batch, device)\n",
    "        return batch\n",
    "        \n",
    "    \n",
    "    def create_validation_dataset(config: MyCaseConfig, device=None):\n",
    "        val_batches = []\n",
    "        val_tokens = 0\n",
    "        while val_tokens < config.validation_tokens:\n",
    "            batch = MyCase.generate_batch(config, device)\n",
    "            val_batches.append(batch)\n",
    "            in_seq, out_mask, out_seq, importance_mask = batch\n",
    "            val_tokens += out_mask.sum()\n",
    "        return val_batches\n",
    "    \n",
    "\n",
    "    def get_dimensions(config):\n",
    "\n",
    "        D = config.mamba_config.mamba_config.d_model\n",
    "        M = config.mamba_config.mamba_config.n_layers\n",
    "\n",
    "        N_in = config.mamba_config.in_dict_size\n",
    "        N_out = config.mamba_config.out_dict_size\n",
    "        return D, M, N_in, N_out\n",
    "\n",
    "\n",
    "    def batch_to(batch, device):\n",
    "        return tuple([arr.to(device) for arr in batch])\n",
    "    \n",
    "\n",
    "    def train_epoch(model, opt, config: MyCaseConfig, logs: MyCaseLogs, device):\n",
    "        D, M, N_in, N_out = MyCase.get_dimensions(config)\n",
    "        B = config.batch_size\n",
    "\n",
    "        train_tokens = 0\n",
    "        train_losses = []\n",
    "        while train_tokens < config.tokens_per_training_epoch:\n",
    "            batch = MyCase.generate_batch(config, device)\n",
    "            in_seq, out_mask, out_seq, importance_mask = batch\n",
    "\n",
    "            L = in_seq.size(1)  # длина последовательностей в этом батче\n",
    "            for t in batch:     # каждый из тензоров in_seq, out_mask, out_seq, importance_mask должен иметь размер (B, L)\n",
    "                assert tuple(t.shape) == (B, L)\n",
    "\n",
    "            # получаем предсказания модели\n",
    "            pred = model(in_seq)  # (B, L, N_out)\n",
    "\n",
    "            assert tuple(pred.shape) == (B, L, N_out), (tuple(pred.shape), (B, L, N_out))\n",
    "\n",
    "            losses = nn.CrossEntropyLoss(reduction='none')(pred.transpose(1, 2), out_seq)\n",
    "            assert tuple(losses.shape) == (B, L), (tuple(losses.shape), (B, L))\n",
    "\n",
    "            loss = torch.where(out_mask != 0, losses, 0).sum()\n",
    "            opt.zero_grad()\n",
    "            loss.backward()\n",
    "            opt.step()\n",
    "\n",
    "            train_tokens += out_mask.sum()\n",
    "            train_losses.append(loss.detach().cpu().item())\n",
    "\n",
    "        logs.last_train_batch = batch\n",
    "        logs.mamba_losses_logs.train_losses.append(np.sum(train_losses)/train_tokens)\n",
    "\n",
    "\n",
    "    def val_epoch(model, val_batches, config: MyCaseConfig, logs: MyCaseLogs, device):\n",
    "        D, M, N_in, N_out = MyCase.get_dimensions(config)\n",
    "        B = config.batch_size\n",
    "\n",
    "        val_tokens = 0\n",
    "        val_losses = []\n",
    "        for batch in val_batches:\n",
    "            in_seq, out_mask, out_seq, importance_mask = batch\n",
    "\n",
    "            L = in_seq.size(1)  # длина последовательностей в этом батче\n",
    "            for t in batch:     # каждый из тензоров in_seq, out_mask, out_seq, importance_mask должен иметь размер (B, L)\n",
    "                assert tuple(t.shape) == (B, L)\n",
    "\n",
    "            # получаем предсказания модели\n",
    "            pred = model(in_seq)  # (B, L, N_out)\n",
    "            assert tuple(pred.shape) == (B, L, N_out)\n",
    "\n",
    "            losses = nn.CrossEntropyLoss(reduction='none')(pred.transpose(1, 2), out_seq)\n",
    "            assert tuple(losses.shape) == (B, L)\n",
    "\n",
    "            loss = torch.where(out_mask != 0, losses, 0).sum()\n",
    "\n",
    "            val_tokens += out_mask.sum()\n",
    "            val_losses.append(loss.detach().cpu().item())\n",
    "\n",
    "        logs.last_val_batch = val_batches[-1]\n",
    "        logs.mamba_losses_logs.val_losses.append(np.sum(val_losses)/val_tokens)\n",
    "\n",
    "\n",
    "    def train(config: MyCaseConfig, device=None) -> MyCaseLogs:\n",
    "\n",
    "        # запоминаем или загружаем сиды numpy и torch для воспроизводимости\n",
    "        MyCase.set_seeds(config)\n",
    "\n",
    "        # создаём модель и оптимизатор исходя из конфигурации\n",
    "        model, opt = MyCase.create_model(config)\n",
    "\n",
    "        # определяем устройство для обучения и переносим всё на него\n",
    "        if device is None:\n",
    "            device = 'cuda' if torch.cuda.is_available() else 'cpu'\n",
    "        model.to(device)\n",
    "\n",
    "        # генерируем тестовый датасет\n",
    "        val_batches = MyCase.create_validation_dataset(config, device)\n",
    "\n",
    "        # создаём объект для хранения логов (метрики во время обучения и прочее)\n",
    "        logs = MyCaseLogs(config, model, MyLossesLogs([], []))\n",
    "\n",
    "        # начинаем обучение по эпохам\n",
    "        for _ in range(config.n_training_epochs):\n",
    "            MyCase.val_epoch(model, val_batches, config, logs, device)\n",
    "            print('val_epoch', logs.mamba_losses_logs.val_losses[-1])\n",
    "\n",
    "            for _ in range(config.validate_every_n_epochs):\n",
    "                MyCase.train_epoch(model, opt, config, logs, device)\n",
    "                print('train_epoch', logs.mamba_losses_logs.train_losses[-1])\n",
    "                if logs.mamba_losses_logs.train_losses[-1] < 1e-4:\n",
    "                    break\n",
    "                \n",
    "            if logs.mamba_losses_logs.train_losses[-1] < 1e-4:\n",
    "                    break\n",
    "\n",
    "        MyCase.val_epoch(model, val_batches, config, logs, device)\n",
    "        print('val_epoch', logs.mamba_losses_logs.val_losses[-1])\n",
    "\n",
    "        return logs\n",
    "    \n",
    "\n",
    "def generate_selective_copying_sample(l, k, n) -> np.ndarray:\n",
    "    in_seq, out_mask, out_seq, importance_mask = (np.zeros(l+k, dtype=int) for _ in range(4))\n",
    "\n",
    "    idx = np.sort(np.random.permutation(l)[:k])\n",
    "    res_seq = np.random.randint(0, n, size=k)\n",
    "\n",
    "    in_seq[:l] = n\n",
    "    in_seq[l:] = n+1\n",
    "    in_seq[idx] = res_seq\n",
    "\n",
    "    out_mask[:] = 0\n",
    "    out_mask[l-1:l+k-1] = 1\n",
    "\n",
    "    out_seq[l-1:l+k-1] = res_seq\n",
    "\n",
    "    importance_mask[:] = 0\n",
    "    importance_mask[idx] = 1\n",
    "\n",
    "    return in_seq, out_mask, out_seq, importance_mask\n",
    "\n",
    "\n",
    "def generate_induction_heads_sample(l, k, n) -> np.ndarray:\n",
    "    in_seq, out_mask, out_seq, importance_mask = (np.zeros(l+k, dtype=int) for _ in range(4))\n",
    "\n",
    "\n",
    "    idx = np.random.randint(l-k-1)\n",
    "\n",
    "    in_seq[:l] = np.random.randint(n, size=l)\n",
    "    in_seq[idx] = n\n",
    "    in_seq[l:] = n+1\n",
    "\n",
    "    out_mask[:] = 0\n",
    "    out_mask[l-1:l+k-1] = 1\n",
    "\n",
    "    out_seq[l-1:l+k-1] = in_seq[idx+1:idx+1+k]\n",
    "\n",
    "    importance_mask[:] = 0\n",
    "    importance_mask[idx+1:idx+1+k] = 1\n",
    "\n",
    "    return in_seq, out_mask, out_seq, importance_mask\n"
   ]
  },
  {
   "cell_type": "code",
   "execution_count": 3,
   "id": "99d46097",
   "metadata": {},
   "outputs": [
    {
     "name": "stdout",
     "output_type": "stream",
     "text": [
      "val_epoch tensor(1.1930)\n",
      "train_epoch tensor(0.1425)\n",
      "train_epoch tensor(5.9003e-07)\n",
      "val_epoch tensor(5.2627e-07)\n"
     ]
    }
   ],
   "source": [
    "B, L, K, N = 32, 8, 1, 2\n",
    "\n",
    "case_config = MyCaseConfig(\n",
    "    name='simple', \n",
    "    description='',\n",
    "    mamba_config=MyMambaConfig(\n",
    "        in_dict_size=N+2,\n",
    "        out_dict_size=N,\n",
    "        mamba_config=MambaConfig(\n",
    "            d_model=16,\n",
    "            n_layers=2,\n",
    "            d_conv=4,\n",
    "        )\n",
    "    ),\n",
    "    generate_sample=lambda: generate_induction_heads_sample(l=L, k=K, n=N),\n",
    "    batch_size=B,\n",
    "    tokens_per_training_epoch=10000,\n",
    "    validation_tokens=10000,\n",
    "    validate_every_n_epochs=5,\n",
    "    n_training_epochs=10\n",
    ")\n",
    "\n",
    "# logs = MyCase.train(case_config)\n",
    "\n",
    "logs = MyCase.train(case_config)"
   ]
  },
  {
   "cell_type": "code",
   "execution_count": 4,
   "id": "cc680fd1",
   "metadata": {},
   "outputs": [
    {
     "name": "stdout",
     "output_type": "stream",
     "text": [
      "torch.Size([32, 9, 2, 32])\n",
      "torch.Size([32, 9, 2, 1])\n",
      "tensor([1, 1, 1, 1, 1, 2, 0, 0, 3])\n"
     ]
    },
    {
     "data": {
      "text/plain": [
       "<matplotlib.image.AxesImage at 0x7ff416368ac0>"
      ]
     },
     "execution_count": 4,
     "metadata": {},
     "output_type": "execute_result"
    },
    {
     "data": {
      "image/png": "[encoded data removed]",
      "text/plain": [
       "<Figure size 640x480 with 1 Axes>"
      ]
     },
     "metadata": {},
     "output_type": "display_data"
    }
   ],
   "source": [
    "import sklearn.metrics as metrics\n",
    "\n",
    "batch = MyCase.generate_batch(case_config)\n",
    "model = logs.model\n",
    "mamba = model[1]\n",
    "\n",
    "preds = model(batch[0])\n",
    "\n",
    "deltas = mamba.get_logs('delta')\n",
    "pred_deltas = mamba.get_logs('pred_delta')\n",
    "\n",
    "print(deltas.shape)\n",
    "print(pred_deltas.shape)\n",
    "\n",
    "print(batch[0][0])\n",
    "plt.imshow(deltas[0, :, :, :].detach().reshape((L+K, -1)))"
   ]
  },
  {
   "cell_type": "code",
   "execution_count": 5,
   "id": "ac60741b",
   "metadata": {},
   "outputs": [
    {
     "data": {
      "text/plain": [
       "<matplotlib.image.AxesImage at 0x7ff4162a7b80>"
      ]
     },
     "execution_count": 5,
     "metadata": {},
     "output_type": "execute_result"
    },
    {
     "data": {
      "image/png": "[encoded data removed]",
      "text/plain": [
       "<Figure size 1000x300 with 3 Axes>"
      ]
     },
     "metadata": {},
     "output_type": "display_data"
    }
   ],
   "source": [
    "rows, cols = 3, 1\n",
    "_, axs = plt.subplots(ncols=cols, nrows=rows, figsize=(10*cols, 1*rows), squeeze=False)\n",
    "\n",
    "axs[0, 0].imshow(batch[3][0][None, :])\n",
    "axs[1, 0].imshow(deltas[0, :, :, :].detach().reshape((L+K, -1)).mean(dim=1)[None, :])\n",
    "axs[2, 0].imshow(torch.max(deltas[0, :, :, :].detach().reshape((L+K, -1)),dim=1).values[None, :])"
   ]
  },
  {
   "cell_type": "code",
   "execution_count": 6,
   "id": "a0db621c",
   "metadata": {},
   "outputs": [
    {
     "name": "stdout",
     "output_type": "stream",
     "text": [
      "ROC-AUC=0.2598876953125\n"
     ]
    },
    {
     "data": {
      "image/png": "[encoded data removed]",
      "text/plain": [
       "<Figure size 640x480 with 1 Axes>"
      ]
     },
     "metadata": {},
     "output_type": "display_data"
    }
   ],
   "source": [
    "y_true = batch[3].flatten().detach()\n",
    "y_pred = deltas.mean(dim=(2,3)).flatten().detach()\n",
    "\n",
    "fpr, tpr, threshold = metrics.roc_curve(y_true, y_pred)\n",
    "\n",
    "plt.plot(fpr, tpr)\n",
    "print(f'ROC-AUC={metrics.roc_auc_score(y_true, y_pred)}')"
   ]
  },
  {
   "cell_type": "code",
   "execution_count": 7,
   "id": "7be9c003",
   "metadata": {},
   "outputs": [
    {
     "name": "stdout",
     "output_type": "stream",
     "text": [
      "Accuracy: 0.7949\n"
     ]
    },
    {
     "data": {
      "text/plain": [
       "[<matplotlib.lines.Line2D at 0x7ff40f53f580>]"
      ]
     },
     "execution_count": 7,
     "metadata": {},
     "output_type": "execute_result"
    },
    {
     "data": {
      "image/png": "[encoded data removed]",
      "text/plain": [
       "<Figure size 640x480 with 1 Axes>"
      ]
     },
     "metadata": {},
     "output_type": "display_data"
    }
   ],
   "source": [
    "import lightgbm as lgb\n",
    "from sklearn.model_selection import train_test_split\n",
    "from sklearn.metrics import accuracy_score, balanced_accuracy_score\n",
    "\n",
    "# Данные: X (n_samples, n_features), y (0 или 1)\n",
    "# X_train, X_test, y_train, y_test = train_test_split(X, y, test_size=0.2)\n",
    "\n",
    "X_train, y_train = pred_deltas.detach().reshape((B*(L+K), -1)).numpy(), batch[3].flatten().detach().numpy()\n",
    "\n",
    "new_batch = MyCase.generate_batch(case_config)\n",
    "\n",
    "preds = model(new_batch[0])\n",
    "new_deltas = mamba.get_logs('delta')\n",
    "new_pred_deltas = mamba.get_logs('pred_delta')\n",
    "X_test, y_test = new_pred_deltas.detach().reshape((B*(L+K), -1)).numpy(), new_batch[3].flatten().detach().numpy()\n",
    "\n",
    "# Создаём датасет для LightGBM\n",
    "train_data = lgb.Dataset(X_train, label=y_train)\n",
    "\n",
    "# Параметры (можно настроить через optuna/hyperopt)\n",
    "params = {\n",
    "    'objective': 'binary',\n",
    "    'metric': 'binary_logloss',\n",
    "    'boosting_type': 'gbdt',\n",
    "    'num_leaves': 31,\n",
    "    'learning_rate': 0.05,\n",
    "    'feature_fraction': 0.9,\n",
    "    'verbose': -1\n",
    "}\n",
    "\n",
    "# Обучение\n",
    "boost_model = lgb.train(params, train_data, num_boost_round=100)\n",
    "\n",
    "# Предсказание\n",
    "y_pred = (boost_model.predict(X_test) > 0.5).astype(int)\n",
    "print(f\"Accuracy: {balanced_accuracy_score(y_test, y_pred):.4f}\")\n",
    "\n",
    "fpr, tpr, threshold = metrics.roc_curve(y_test, y_pred)\n",
    "\n",
    "plt.plot(fpr, tpr)"
   ]
  },
  {
   "cell_type": "code",
   "execution_count": 8,
   "id": "ba84e2ec",
   "metadata": {},
   "outputs": [
    {
     "data": {
      "text/plain": [
       "(array([2, 0, 1, 2, 2, 3, 3]),\n",
       " array([0, 0, 0, 0, 1, 1, 0]),\n",
       " array([0, 0, 0, 0, 0, 1, 0]),\n",
       " array([0, 1, 1, 0, 0, 0, 0]))"
      ]
     },
     "execution_count": 8,
     "metadata": {},
     "output_type": "execute_result"
    }
   ],
   "source": [
    "generate_selective_copying_sample(5, 2, 2)"
   ]
  },
  {
   "cell_type": "code",
   "execution_count": 9,
   "id": "28dad324",
   "metadata": {},
   "outputs": [
    {
     "name": "stdout",
     "output_type": "stream",
     "text": [
      "[0 2 2 1 2 3 3] [0 0 0 0 1 1 0] [0 0 0 0 0 1 0] [1 0 0 1 0 0 0]\n",
      "[0 1]\n"
     ]
    }
   ],
   "source": [
    "l, k, n = 5, 2, 2\n",
    "\n",
    "in_seq, out_mask, out_seq, importance_mask = (np.zeros(l+k, dtype=int) for _ in range(4))\n",
    "\n",
    "idx = np.sort(np.random.permutation(l)[:k])\n",
    "res_seq = np.random.randint(0, n, size=k)\n",
    "\n",
    "in_seq[:l] = n\n",
    "in_seq[l:] = n+1\n",
    "in_seq[idx] = res_seq\n",
    "\n",
    "out_mask[:] = 0\n",
    "out_mask[l-1:l+k-1] = 1\n",
    "\n",
    "out_seq[l-1:l+k-1] = res_seq\n",
    "\n",
    "importance_mask[:] = 0\n",
    "importance_mask[idx] = 1\n",
    "\n",
    "print(in_seq, out_mask, out_seq, importance_mask)\n",
    "print(res_seq)"
   ]
  }
 ],
 "metadata": {
  "kernelspec": {
   "display_name": "Python 3",
   "language": "python",
   "name": "python3"
  },
  "language_info": {
   "codemirror_mode": {
    "name": "ipython",
    "version": 3
   },
   "file_extension": ".py",
   "mimetype": "text/x-python",
   "name": "python",
   "nbconvert_exporter": "python",
   "pygments_lexer": "ipython3",
   "version": "3.10.12"
  }
 },
 "nbformat": 4,
 "nbformat_minor": 5
}
