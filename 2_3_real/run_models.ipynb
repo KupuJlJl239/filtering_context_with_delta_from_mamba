{
 "cells": [
  {
   "cell_type": "code",
   "execution_count": 1,
   "metadata": {},
   "outputs": [],
   "source": [
    "import pickle\n",
    "with open('data.pkl', 'rb') as f:\n",
    "    data = pickle.load(f)"
   ]
  },
  {
   "cell_type": "code",
   "execution_count": 2,
   "metadata": {},
   "outputs": [
    {
     "name": "stdout",
     "output_type": "stream",
     "text": [
      "16\n",
      "\n",
      "Your task is to select EXACTLY the context parts needed to implement the test scenarios for the provided code.\n",
      "\n",
      "**Rules:**\n",
      "1. Analyze the code under test and test scenarios carefully\n",
      "2. Select context parts that contain:\n",
      "   - Data structures, required for implementing test scenarios\n",
      "   - Functions / methods of classes, required for implementing test scenarios\n",
      "   - Any other information, required for implementing test scenarios\n",
      "3. Exclude:\n",
      "   - Unrelated components (even if similar)\n",
      "   - Low-level implementation details\n",
      "   - Duplicate information\n",
      "4. Return ONLY Python list of selected part numbers, like [1, 3, 4]\n",
      "\n",
      "**Code to test:**\n",
      "package org.springframework.samples.petclinic.customers.web;\n",
      "@RequestMapping(\"/owners\")\n",
      "@RestController\n",
      "@Timed(\"petclinic.owner\")\n",
      "@Slf4j\n",
      "class OwnerResource {\n",
      "    private final OwnerRepository ownerRepository;\n",
      "    private final OwnerEntityMapper ownerEntityMapper;\n",
      "        @PostMapping\n",
      "    @ResponseStatus(HttpStatus.CREATED)\n",
      "    public Owner createOwner(@Valid @RequestBody OwnerRequest ownerRequest) {\n",
      "        Owner owner = ownerEntityMapper.map(new Owner(), ownerRequest);\n",
      "        return ownerRepository.save(owner);\n",
      "    }\n",
      "/**\n",
      "     * Read single Owner\n",
      "     */\n",
      "        @GetMapping(value = \"/{ownerId}\")\n",
      "    public Optional<Owner> findOwner(@PathVariable(\"ownerId\") @Min(1) int ownerId) {\n",
      "        return ownerRepository.findById(ownerId);\n",
      "    }\n",
      "/**\n",
      "     * Read List of Owners\n",
      "     */\n",
      "        @GetMapping\n",
      "    public List<Owner> findAll() {\n",
      "        return ownerRepository.findAll();\n",
      "    }\n",
      "        @PutMapping(value = \"/{ownerId}\")\n",
      "    @ResponseStatus(HttpStatus.NO_CONTENT)\n",
      "    public void updateOwner(@PathVariable(\"ownerId\") @Min(1) int ownerId, @Valid @RequestBody OwnerRequest ownerRequest) {\n",
      "        final Owner ownerModel = ownerRepository.findById(ownerId).orElseThrow(() -> new ResourceNotFoundException(\"Owner \" + ownerId + \" not found\"));\n",
      "\n",
      "        ownerEntityMapper.map(ownerModel, ownerRequest);\n",
      "        log.info(\"Saving owner {}\", ownerModel);\n",
      "        ownerRepository.save(ownerModel);\n",
      "    }\n",
      "public OwnerResource(org.springframework.samples.petclinic.customers.model.OwnerRepository ownerRepository,org.springframework.samples.petclinic.customers.web.mapper.OwnerEntityMapper ownerEntityMapper)\n",
      "}\n",
      "\n",
      "**Test scenarios (4 total):**\n",
      "0) Verify that submitting a valid owner creation request stores the owner and returns a created response\n",
      "Steps: Given the system is prepared to accept owner registrations with all required valid details (first name, last name, address, city, and a correctly formatted telephone)\n",
      "When a user submits a request to create a new owner with valid information\n",
      "Then the system should save the owner in the repository\n",
      "And the response status should indicate that the owner was successfully created\n",
      "\n",
      "1) Verify that retrieving an existing owner's details returns the correct owner information\n",
      "Steps: Given an owner with valid details already exists in the system identified by a generic valid owner id\n",
      "When a user requests the owner information using that valid owner id\n",
      "Then the system should return the owner details corresponding to the provided id\n",
      "And the returned details should include the expected first name, last name, address, city, and telephone information\n",
      "\n",
      "2) Verify that retrieving all owners returns an empty list when no owners exist in the system\n",
      "Steps: Given the system has no registered owner records\n",
      "When a user requests a list of all owners\n",
      "Then the system should return an empty list indicating that there are no owners to display\n",
      "\n",
      "3) Verify that updating an existing owner's details successfully persists the changes\n",
      "Steps: Given an owner with initial valid details exists in the system identified by a valid owner id\n",
      "And new valid details are available for updating the owner's information\n",
      "When a user submits an update request with the new owner information for the existing owner id\n",
      "Then the system should update the owner record with the new details\n",
      "And the response status should indicate that the update was successful with no content returned\n",
      "And subsequent retrieval of the owner should reflect the updated details\n",
      "\n",
      "\n",
      "\n",
      "**Context parts (0-19):**\n",
      "\n",
      "=== Part 0 ===\n",
      "package jakarta.persistence;\n",
      "@java.lang.annotation.Target({java.lang.annotation.ElementType.METHOD, java.lang.annotation.ElementType.FIELD})\n",
      "@java.lang.annotation.Retention(java.lang.annotation.RetentionPolicy.RUNTIME)\n",
      "public @interface Column {\n",
      "    java.lang.String name() default \"\"\n",
      "}\n",
      "\n",
      "=== Part 1 ===\n",
      "package io.quarkus.cli;\n",
      "@CommandLine.Command(name = \"create\", header = \"Create a new project.\", subcommands = {\n",
      "        CreateApp.class,\n",
      "        CreateCli.class,\n",
      "        CreateExtension.class })\n",
      "public class Create implements Callable<Integer> {\n",
      "}\n",
      "\n",
      "=== Part 2 ===\n",
      "package org.springframework.samples.petclinic.customers.model;\n",
      "/**\n",
      "\n",
      " * Can be Cat, Dog, Hamster...\n",
      " */\n",
      "@Entity\n",
      "@Table(name = \"types\")\n",
      "public class PetType {\n",
      "public java.lang.Integer getId()\n",
      "public java.lang.String getName()\n",
      "}\n",
      "\n",
      "=== Part 3 ===\n",
      "package org.springframework.samples.petclinic.customers.model;\n",
      "/**\n",
      " * Repository class for <code>Owner</code> domain objects All method names are compliant with Spring Data naming\n",
      " * conventions so this interface can easily be extended for Spring Data See here: http://static.springsource.org/spring-data/jpa/docs/current/reference/html/jpa.repositories.html#jpa.query-methods.query-creation\n",
      "\n",
      " */\n",
      "public interface OwnerRepository extends JpaRepository<Owner, Integer> {\n",
      "}\n",
      "\n",
      "=== Part 4 ===\n",
      "package com.commerce.backend.service;\n",
      "public interface ProductService {\n",
      "}\n",
      "\n",
      "=== Part 5 ===\n",
      "Class `ProductVariant` declaration:\n",
      "@Entity\n",
      "@Table(name = \"product_variant\")\n",
      "public class ProductVariant\n",
      "The class uses the following imports:\n",
      "- from package com.commerce.backend.model.entity: Color, Product\n",
      "The class has following members:\n",
      "public methods:\n",
      "- ProductVariant()\n",
      "- void setId(Long id)\n",
      "- void setProduct(Product product)\n",
      "- void setColor(Color color)\n",
      "- void setWidth(String width)\n",
      "- void setHeight(String height)\n",
      "- void setComposition(String composition)\n",
      "- void setPrice(Float price)\n",
      "- void setCargoPrice(Float cargoPrice)\n",
      "- void setTaxPercent(Float taxPercent)\n",
      "- void setImage(String image)\n",
      "- void setThumb(String thumb)\n",
      "- void setStock(Integer stock)\n",
      "- void setSellCount(Integer sellCount)\n",
      "- void setLive(Integer live)\n",
      "\n",
      "\n",
      "=== Part 6 ===\n",
      "Class `org.springframework.samples.petclinic.customers.model.Pet` declaration:\n",
      "@Entity\n",
      "@Table(name = \"pets\")\n",
      "public class Pet\n",
      "The class uses the following imports:\n",
      "- from package org.springframework.samples.petclinic.customers.model: Owner, PetType\n",
      "The class has following members:\n",
      "public methods:\n",
      "- Integer getId()\n",
      "- String getName()\n",
      "- Date getBirthDate()\n",
      "- PetType getType()\n",
      "- Owner getOwner()\n",
      "\n",
      "\n",
      "=== Part 7 ===\n",
      "package com.commerce.backend.model.entity;\n",
      "@Entity\n",
      "@Table(name = \"product\")\n",
      "public class Product {\n",
      "    @ManyToOne\n",
      "    @JoinColumn(name = \"category_id\")\n",
      "    private ProductCategory productCategory;\n",
      "    @Column(name = \"name\")\n",
      "    private String name;\n",
      "    @Column(name = \"url\")\n",
      "    private String url;\n",
      "}\n",
      "\n",
      "=== Part 8 ===\n",
      "package com.commerce.backend.validator;\n",
      "@Target({TYPE, FIELD, ANNOTATION_TYPE})\n",
      "@Retention(RUNTIME)\n",
      "@Constraint(validatedBy = CustomEmailValidator.class)\n",
      "@Documented\n",
      "public @interface CustomEmail {\n",
      "}\n",
      "\n",
      "=== Part 9 ===\n",
      "package javax.persistence;\n",
      "public enum CascadeType {\n",
      "    ALL\n",
      "}\n",
      "\n",
      "=== Part 10 ===\n",
      "Class `com.commerce.backend.model.entity.ProductCategory` declaration:\n",
      "@Entity\n",
      "@Table(name = \"product_category\")\n",
      "public class ProductCategory\n",
      "The class has following members:\n",
      "public methods:\n",
      "- ProductCategory()\n",
      "- void setId(Long id)\n",
      "- void setName(String name)\n",
      "- Long getId()\n",
      "- String getName()\n",
      "\n",
      "\n",
      "=== Part 11 ===\n",
      "package javax.persistence;\n",
      "public enum GenerationType {\n",
      " IDENTITY\n",
      "}\n",
      "\n",
      "=== Part 12 ===\n",
      "package org.springframework.security.crypto.password;\n",
      "public interface PasswordEncoder {\n",
      "}\n",
      "\n",
      "=== Part 13 ===\n",
      "Class `org.springframework.samples.petclinic.customers.model.Owner` declaration:\n",
      "@Entity\n",
      "@Table(name = \"owners\")\n",
      "public class Owner\n",
      "The class has following members:\n",
      "public methods:\n",
      "- protected Set<Pet> getPetsInternal()\n",
      "- List<Pet> getPets()\n",
      "- Integer getId()\n",
      "- String getFirstName()\n",
      "- String getLastName()\n",
      "- String getAddress()\n",
      "- String getCity()\n",
      "- String getTelephone()\n",
      "fields:\n",
      "- @Getter\n",
      "    @Setter\n",
      "    @Column(name = \"address\")\n",
      "    @NotBlank\n",
      "    private String address;\n",
      "- @Getter\n",
      "    @Setter\n",
      "    @Column(name = \"city\")\n",
      "    @NotBlank\n",
      "    private String city;\n",
      "- @Getter\n",
      "    @Setter\n",
      "    @Column(name = \"telephone\")\n",
      "    @NotBlank\n",
      "    @Digits(fraction = 0, integer = 12)\n",
      "    private String telephone;\n",
      "- @Getter\n",
      "    @Setter\n",
      "    @Column(name = \"first_name\")\n",
      "    @NotBlank\n",
      "    private String firstName;\n",
      "- @Getter\n",
      "    @Setter\n",
      "    @Column(name = \"last_name\")\n",
      "    @NotBlank\n",
      "    private String lastName;\n",
      "\n",
      "\n",
      "=== Part 14 ===\n",
      "package jakarta.persistence;\n",
      "@java.lang.annotation.Target({java.lang.annotation.ElementType.TYPE})\n",
      "@java.lang.annotation.Retention(java.lang.annotation.RetentionPolicy.RUNTIME)\n",
      "public @interface Table {\n",
      "    java.lang.String name() default \"\"\n",
      "}\n",
      "\n",
      "=== Part 15 ===\n",
      "package com.commerce.backend.service;\n",
      "@Service\n",
      "public class ProductServiceImpl implements ProductService {\n",
      "    @Autowired\n",
      "    public ProductServiceImpl(ProductCacheService productCacheService,\n",
      "                              ProductRepository productRepository,\n",
      "                              ProductVariantRepository productVariantRepository,\n",
      "                              ProductVariantCacheService productVariantCacheService,\n",
      "                              ProductResponseConverter productResponseConverter,\n",
      "                              ProductVariantResponseConverter productVariantResponseConverter,\n",
      "                              ProductDetailsResponseConverter productDetailsResponseConverter)\n",
      "}\n",
      "\n",
      "=== Part 16 ===\n",
      "package jakarta.persistence;\n",
      "@java.lang.annotation.Documented\n",
      "@java.lang.annotation.Target({java.lang.annotation.ElementType.TYPE})\n",
      "@java.lang.annotation.Retention(java.lang.annotation.RetentionPolicy.RUNTIME)\n",
      "public @interface Entity {\n",
      "}\n",
      "\n",
      "=== Part 17 ===\n",
      "package org.springframework.samples.petclinic.customers.web;\n",
      "@ResponseStatus(value = HttpStatus.NOT_FOUND)\n",
      "public class ResourceNotFoundException extends RuntimeException {\n",
      "    public ResourceNotFoundException(String message) { super(message); }\n",
      "}\n",
      "\n",
      "=== Part 18 ===\n",
      "package org.springframework.samples.petclinic.customers.web.mapper;\n",
      "@Component\n",
      "public class OwnerEntityMapper implements Mapper<OwnerRequest, Owner> {\n",
      "    // This is done by hand for simplicity purpose. In a real life use-case we should consider using MapStruct.\n",
      "    @Override\n",
      "    public Owner map(final Owner owner, final OwnerRequest request) {\n",
      "        owner.setAddress(request.address());\n",
      "        owner.setCity(request.city());\n",
      "        owner.setTelephone(request.telephone());\n",
      "        owner.setFirstName(request.firstName());\n",
      "        owner.setLastName(request.lastName());\n",
      "        return owner;\n",
      "    }\n",
      "}\n",
      "\n",
      "=== Part 19 ===\n",
      "package org.springframework.samples.petclinic.customers.web;\n",
      "public record OwnerRequest(@NotBlank String firstName,\n",
      "                           @NotBlank String lastName,\n",
      "                           @NotBlank String address,\n",
      "                           @NotBlank String city,\n",
      "                           @NotBlank\n",
      "                           @Digits(fraction = 0, integer = 12)\n",
      "                           String telephone\n",
      ") {\n",
      "}\n",
      "\n",
      "\n",
      "Remember: Your response MUST be ONLY the list, e.g. [1, 3, 5]\n",
      "\n"
     ]
    }
   ],
   "source": [
    "import re\n",
    "import numpy as np\n",
    "\n",
    "\n",
    "# вспомогательные функции для генерации промпта\n",
    "\n",
    "def scenarios_to_str(scenarios):\n",
    "    s = ''\n",
    "    for i, dct in enumerate(scenarios):\n",
    "        s += f\"{i}) {dct['description']}\\nSteps: {dct['steps']}\\n\\n\"\n",
    "    return s\n",
    "\n",
    "def context_to_str(context):\n",
    "    s = ''\n",
    "    for i, part in enumerate(context):\n",
    "        s += f\"\\n=== Part {i} ===\\n{part[0]}\\n\"\n",
    "    return s\n",
    "\n",
    "\n",
    "# генерация промпта\n",
    "\n",
    "def generate_prompt(code, scenarios, context):\n",
    "    return f\"\"\"\n",
    "Your task is to select EXACTLY the context parts needed to implement the test scenarios for the provided code.\n",
    "\n",
    "**Rules:**\n",
    "1. Analyze the code under test and test scenarios carefully\n",
    "2. Select context parts that contain:\n",
    "   - Data structures, required for implementing test scenarios\n",
    "   - Functions / methods of classes, required for implementing test scenarios\n",
    "   - Any other information, required for implementing test scenarios\n",
    "3. Exclude:\n",
    "   - Unrelated components (even if similar)\n",
    "   - Low-level implementation details\n",
    "   - Duplicate information\n",
    "4. Return ONLY Python list of selected part numbers, like [1, 3, 4]\n",
    "\n",
    "**Code to test:**\n",
    "{code}\n",
    "\n",
    "**Test scenarios ({len(scenarios)} total):**\n",
    "{scenarios_to_str(scenarios)}\n",
    "\n",
    "**Context parts (0-{len(context)-1}):**\n",
    "{context_to_str(context)}\n",
    "\n",
    "Remember: Your response MUST be ONLY the list, e.g. [1, 3, 5]\n",
    "\"\"\"\n",
    "\n",
    "def generate_prompt_by_data(d):\n",
    "    return generate_prompt(d['code'], d['scenarios'], d['context'])\n",
    "\n",
    "prompts = [generate_prompt_by_data(d) for d in data]\n",
    "print(len(prompts))\n",
    "print(prompts[0])"
   ]
  },
  {
   "cell_type": "code",
   "execution_count": 3,
   "metadata": {},
   "outputs": [],
   "source": [
    "\n",
    "# сколько токенов позволено максимум сгенерировать модели\n",
    "def calculate_max_new_tokens(tokenizer, N: int, reserve_tokens=100) -> int:\n",
    "    \"\"\"Вычисляет максимальную длину генерации для списка всех возможных индексов\"\"\"\n",
    "    # Создаем максимально возможный список [0, 1, ..., N-1]\n",
    "    max_list_str = str(list(range(N)))\n",
    "    # Токенизируем эту строку и берем длину\n",
    "    return len(tokenizer.encode(max_list_str)) + reserve_tokens  # Добавляем запас\n",
    "\n",
    "\n",
    "# парсинг вывода модели\n",
    "def parse_model_output(output_text: str) -> list[int]:\n",
    "    \"\"\"Парсит вывод модели и возвращает список чисел, обрабатывая ошибки\"\"\"\n",
    "    # Ищем первый вхождение паттерна списка Python\n",
    "    match = re.search(r'\\[([\\d,\\s]+)\\]', output_text)\n",
    "    if not match:\n",
    "        return None\n",
    "    \n",
    "    try:\n",
    "        # Извлекаем числа из найденного списка\n",
    "        numbers = [int(num) for num in match.group(1).split(',')]\n",
    "        return np.array(numbers)\n",
    "    except (ValueError, AttributeError):\n",
    "        return None\n",
    "\n",
    "\n",
    "# запуск модели\n",
    "def run_model(model, tokenizer, prompt, max_new_tokens):\n",
    "    inputs = tokenizer(prompt, return_tensors=\"pt\").to(model.device)\n",
    "    input_length = len(inputs['input_ids'][0])\n",
    "\n",
    "    outputs = model.generate(**inputs, max_new_tokens=max_new_tokens)\n",
    "    new_tokens = outputs[0][input_length:]  # новосгенерированные токены\n",
    "    output_text = tokenizer.decode(new_tokens, skip_special_tokens=True)    # сгенерированный моделью ответ\n",
    "\n",
    "    return parse_model_output(output_text), output_text"
   ]
  },
  {
   "cell_type": "code",
   "execution_count": 6,
   "metadata": {},
   "outputs": [
    {
     "name": "stdout",
     "output_type": "stream",
     "text": [
      "loading \"codellama/CodeLlama-7b-Instruct-hf\"...\n"
     ]
    },
    {
     "data": {
      "application/vnd.jupyter.widget-view+json": {
       "model_id": "48eb5c8b36914908bfef723224f55a17",
       "version_major": 2,
       "version_minor": 0
      },
      "text/plain": [
       "Loading checkpoint shards:   0%|          | 0/2 [00:00<?, ?it/s]"
      ]
     },
     "metadata": {},
     "output_type": "display_data"
    },
    {
     "name": "stderr",
     "output_type": "stream",
     "text": [
      "Setting `pad_token_id` to `eos_token_id`:None for open-end generation.\n"
     ]
    },
    {
     "name": "stdout",
     "output_type": "stream",
     "text": [
      "start inference \"codellama/CodeLlama-7b-Instruct-hf\"\n"
     ]
    },
    {
     "name": "stderr",
     "output_type": "stream",
     "text": [
      "Setting `pad_token_id` to `eos_token_id`:None for open-end generation.\n"
     ]
    },
    {
     "name": "stdout",
     "output_type": "stream",
     "text": [
      "0 None \n"
     ]
    },
    {
     "name": "stderr",
     "output_type": "stream",
     "text": [
      "Setting `pad_token_id` to `eos_token_id`:None for open-end generation.\n"
     ]
    },
    {
     "name": "stdout",
     "output_type": "stream",
     "text": [
      "1 None \n"
     ]
    },
    {
     "name": "stderr",
     "output_type": "stream",
     "text": [
      "Setting `pad_token_id` to `eos_token_id`:None for open-end generation.\n"
     ]
    },
    {
     "name": "stdout",
     "output_type": "stream",
     "text": [
      "2 None \n"
     ]
    },
    {
     "name": "stderr",
     "output_type": "stream",
     "text": [
      "Setting `pad_token_id` to `eos_token_id`:None for open-end generation.\n"
     ]
    },
    {
     "name": "stdout",
     "output_type": "stream",
     "text": [
      "3 None \n"
     ]
    },
    {
     "name": "stderr",
     "output_type": "stream",
     "text": [
      "Setting `pad_token_id` to `eos_token_id`:None for open-end generation.\n"
     ]
    },
    {
     "name": "stdout",
     "output_type": "stream",
     "text": [
      "4 None \n"
     ]
    },
    {
     "name": "stderr",
     "output_type": "stream",
     "text": [
      "Setting `pad_token_id` to `eos_token_id`:None for open-end generation.\n"
     ]
    },
    {
     "name": "stdout",
     "output_type": "stream",
     "text": [
      "5 None \n"
     ]
    },
    {
     "name": "stderr",
     "output_type": "stream",
     "text": [
      "Setting `pad_token_id` to `eos_token_id`:None for open-end generation.\n"
     ]
    },
    {
     "name": "stdout",
     "output_type": "stream",
     "text": [
      "6 None \n"
     ]
    },
    {
     "name": "stderr",
     "output_type": "stream",
     "text": [
      "Setting `pad_token_id` to `eos_token_id`:None for open-end generation.\n"
     ]
    },
    {
     "name": "stdout",
     "output_type": "stream",
     "text": [
      "7 None \n"
     ]
    },
    {
     "name": "stderr",
     "output_type": "stream",
     "text": [
      "Setting `pad_token_id` to `eos_token_id`:None for open-end generation.\n"
     ]
    },
    {
     "name": "stdout",
     "output_type": "stream",
     "text": [
      "8 None \n"
     ]
    },
    {
     "name": "stderr",
     "output_type": "stream",
     "text": [
      "Setting `pad_token_id` to `eos_token_id`:None for open-end generation.\n"
     ]
    },
    {
     "name": "stdout",
     "output_type": "stream",
     "text": [
      "9 None \n"
     ]
    },
    {
     "name": "stderr",
     "output_type": "stream",
     "text": [
      "Setting `pad_token_id` to `eos_token_id`:None for open-end generation.\n"
     ]
    },
    {
     "name": "stdout",
     "output_type": "stream",
     "text": [
      "10 None \n"
     ]
    },
    {
     "name": "stderr",
     "output_type": "stream",
     "text": [
      "Setting `pad_token_id` to `eos_token_id`:None for open-end generation.\n",
      "Setting `pad_token_id` to `eos_token_id`:None for open-end generation.\n"
     ]
    },
    {
     "name": "stdout",
     "output_type": "stream",
     "text": [
      "11 None \n",
      "12 None \n"
     ]
    },
    {
     "name": "stderr",
     "output_type": "stream",
     "text": [
      "Setting `pad_token_id` to `eos_token_id`:None for open-end generation.\n"
     ]
    },
    {
     "name": "stdout",
     "output_type": "stream",
     "text": [
      "13 None \n"
     ]
    },
    {
     "name": "stderr",
     "output_type": "stream",
     "text": [
      "Setting `pad_token_id` to `eos_token_id`:None for open-end generation.\n"
     ]
    },
    {
     "name": "stdout",
     "output_type": "stream",
     "text": [
      "14 None \n",
      "15 None \n"
     ]
    }
   ],
   "source": [
    "# выбираем не занятую видеокарту\n",
    "device = 'cuda:5'\n",
    "\n",
    "# код с квантизацией\n",
    "import torch\n",
    "from transformers import AutoModelForCausalLM, AutoTokenizer, BitsAndBytesConfig\n",
    "\n",
    "# загрузка модели\n",
    "# model_name = \"deepseek-ai/DeepSeek-Coder-V2-Lite-Instruct\"\n",
    "# model_name = \"deepseek-ai/deepseek-coder-1.3b-instruct\"\n",
    "quantization_config = BitsAndBytesConfig(load_in_8bit=True)\n",
    "\n",
    "\n",
    "model_names = [\n",
    "    # \"deepseek-ai/deepseek-coder-6.7b-instruct\",\n",
    "    \"codellama/CodeLlama-7b-Instruct-hf\",\n",
    "    # \"huggyllama/llama-7b\",\n",
    "    # \"deepseek-ai/DeepSeek-Coder-V2-Lite-Instruct\",\n",
    "    \n",
    "]\n",
    "\n",
    "preds = {}\n",
    "for model_name in model_names:\n",
    "    print(f'loading \"{model_name}\"...')\n",
    "    tokenizer = AutoTokenizer.from_pretrained(model_name, trust_remote_code=True)\n",
    "    model = AutoModelForCausalLM.from_pretrained(model_name, trust_remote_code=True, quantization_config=quantization_config, device_map=device)\n",
    "\n",
    "    preds[model_name] = []\n",
    "    print(f'start inference \"{model_name}\"')\n",
    "    for i, (prompt, d) in enumerate(zip(prompts, data)):\n",
    "        max_new_tokens = calculate_max_new_tokens(tokenizer, len(d['context']), reserve_tokens=10)\n",
    "        try:\n",
    "            output_idx, output_text = run_model(model, tokenizer, prompt, max_new_tokens)\n",
    "        except:\n",
    "            output_idx, output_text = None, None\n",
    "        print(i, output_idx, output_text)\n",
    "        preds[model_name].append((output_idx, output_text))\n",
    "\n",
    "    del model\n",
    "\n",
    "with open('preds.pkl', 'wb') as f:\n",
    "    pickle.dump(preds, f)"
   ]
  },
  {
   "cell_type": "code",
   "execution_count": 7,
   "metadata": {},
   "outputs": [
    {
     "data": {
      "application/vnd.jupyter.widget-view+json": {
       "model_id": "078c6f4599fa4bbba500d87191b462ba",
       "version_major": 2,
       "version_minor": 0
      },
      "text/plain": [
       "Loading checkpoint shards:   0%|          | 0/2 [00:00<?, ?it/s]"
      ]
     },
     "metadata": {},
     "output_type": "display_data"
    },
    {
     "name": "stderr",
     "output_type": "stream",
     "text": [
      "Setting `pad_token_id` to `eos_token_id`:None for open-end generation.\n"
     ]
    },
    {
     "name": "stdout",
     "output_type": "stream",
     "text": [
      ".\n",
      "\n",
      "Comment: @user123456789 I'm not sure what you mean by \"me\".\n",
      "\n",
      "Comment: @user123456789 I'm not sure what you mean by \"me\".\n",
      "\n",
      "Comment: @user123456789 I'm not sure what you mean by \"me\".\n",
      "\n",
      "Comment: @user123456789 I'm not sure what you mean by \"me\".\n",
      "\n",
      "Comment: @user123456789 I'm not sure what you mean by \"me\".\n",
      "\n",
      "Comment: @user123456789 I'm not sure what you mean by \"me\".\n",
      "\n",
      "Comment: @user123456789 I'm not sure what you mean by \"me\".\n",
      "\n",
      "Comment: @user123456789 I'm not sure what you mean by \"me\".\n",
      "\n",
      "Comment: @user123456789 I'm not sure what you mean by \"me\".\n",
      "\n",
      "Comment: @user123456789 I'm not sure what you mean by \"me\".\n",
      "\n",
      "Comment: @user123456789 I'm not sure what you mean by \"me\".\n",
      "\n",
      "Comment: @user123456789 I'm not sure what you mean by \"me\".\n",
      "\n",
      "Comment: @user123456789 I'm not sure what you mean by \"me\".\n",
      "\n",
      "Comment: @user123456789 I'm not sure what you mean by \"me\".\n",
      "\n",
      "Comment: @user123456789 I'm not sure what you mean by \"me\".\n",
      "\n",
      "Comment: @user123456789 I'm not sure what you mean by \"me\".\n",
      "\n",
      "Comment: @user123456789 I'm not sure what you mean by \"me\".\n",
      "\n",
      "Comment: @user123456789 I'm not sure what you mean by \"me\".\n",
      "\n",
      "Comment: @user123456789 I'm not sure what you mean by \"me\".\n",
      "\n",
      "Comment: @user123456789 I'm not sure what you mean by \"me\".\n",
      "\n",
      "Comment: @user123456789 I'm not sure what you mean by \"me\".\n",
      "\n",
      "Comment: @user123456789 I'm not sure what you mean by \"me\".\n",
      "\n",
      "Comment: @user123456789 I'm not sure what you mean by \"me\".\n",
      "\n",
      "Comment: @user123456789 I'm not sure what you mean by \"me\".\n",
      "\n",
      "Comment: @user123456789 I'm not sure what you mean by \"me\".\n",
      "\n",
      "Comment: @user123456789 I'm not sure what you mean by \"me\".\n",
      "\n",
      "Comment: @user123456789 I'm not sure what you mean by \"me\".\n",
      "\n",
      "Comment: @user123456789 I'm not sure what you mean by \"me\".\n",
      "\n",
      "Comment: @user123456789 I'm not sure what you mean by \"me\".\n",
      "\n",
      "Comment: @user123456789 I'm not sure what you mean by \"me\".\n",
      "\n",
      "Comment: @user123456789 I'm not sure what you mean by \"me\".\n",
      "\n",
      "Comment: @user123456789 I'm not sure what you mean by \"me\".\n",
      "\n",
      "Comment: @user123456789 I'm not sure what you mean by \"me\".\n",
      "\n",
      "Comment: @user123456789 I'm not sure what you mean by \"me\".\n",
      "\n",
      "Comment: @user123456789 I'm not sure what you mean by \"me\".\n",
      "\n",
      "Comment: @user123456789 I'm not sure what you mean by \"me\".\n",
      "\n",
      "Comment: @user123456789 I'm not sure what you mean by \"me\".\n"
     ]
    }
   ],
   "source": [
    "model_name = model_names[0]\n",
    "tokenizer = AutoTokenizer.from_pretrained(model_name, trust_remote_code=True)\n",
    "model = AutoModelForCausalLM.from_pretrained(model_name, trust_remote_code=True, quantization_config=quantization_config, device_map=device)\n",
    "\n",
    "_, text_output = run_model(model, tokenizer, \"Tell me about yourself\", 1000)\n",
    "print(text_output)"
   ]
  },
  {
   "cell_type": "code",
   "execution_count": 5,
   "metadata": {},
   "outputs": [],
   "source": [
    "with open('preds.pkl', 'wb') as f:\n",
    "    pickle.dump(preds, f)"
   ]
  }
 ],
 "metadata": {
  "kernelspec": {
   "display_name": ".venv",
   "language": "python",
   "name": "python3"
  },
  "language_info": {
   "codemirror_mode": {
    "name": "ipython",
    "version": 3
   },
   "file_extension": ".py",
   "mimetype": "text/x-python",
   "name": "python",
   "nbconvert_exporter": "python",
   "pygments_lexer": "ipython3",
   "version": "3.11.2"
  }
 },
 "nbformat": 4,
 "nbformat_minor": 2
}
