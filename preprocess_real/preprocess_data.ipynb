{
 "cells": [
  {
   "cell_type": "code",
   "execution_count": 2,
   "metadata": {},
   "outputs": [
    {
     "name": "stdout",
     "output_type": "stream",
     "text": [
      "Contexts:\n",
      "10 4029\n",
      "4 1526\n",
      "54 18551\n",
      "32 6797\n",
      "8 2816\n",
      "7 2060\n",
      "32 15018\n",
      "4 42608\n",
      "0 0\n",
      "50 32733\n",
      "22 7798\n",
      "5 1873\n",
      "15 5875\n",
      "5 1570\n",
      "20 5343\n",
      "33 11246\n",
      "30 7629\n"
     ]
    }
   ],
   "source": [
    "import json\n",
    "import re   # для парсинга ответа модели\n",
    "import numpy as np\n",
    "import random\n",
    "import pickle\n",
    "\n",
    "# Открываем файл и загружаем данные\n",
    "with open('Kirill_dumps.json', 'r', encoding='utf-8') as file:\n",
    "    data = json.load(file)  # преобразует JSON в Python-объект (dict/list)\n",
    "\n",
    "contexts = [d['context'] for d in data]\n",
    "\n",
    "print('Contexts:')\n",
    "for c in contexts:\n",
    "    print(len(c), sum(len(s) for s in c))\n",
    "\n",
    "# какой случай к какому проекту относится\n",
    "petclinic_idx = [0, 5, 10, 11, 12, 13]\n",
    "keyist_eccomerce_idx = [2, 3, 4, 6, 14, 15, 16]\n",
    "quarkus_idx = [1, 7, 8, 9, ]\n",
    "\n",
    "idx2project = np.array(['']*17)\n",
    "idx2project[petclinic_idx] = 'p'\n",
    "idx2project[keyist_eccomerce_idx] = 'c'\n",
    "idx2project[quarkus_idx] = 'q'\n",
    "# idx2project\n",
    "\n",
    "random.seed(42)\n",
    "\n",
    "def get_context(i):\n",
    "    context = contexts[i]   # контекст для текущего сценария\n",
    "    N = len(context)    # число кусков\n",
    "\n",
    "    other_project_contexts_idx = np.arange(len(contexts))[idx2project != idx2project[i]]\n",
    "    other_project_contexts = [contexts[idx] for idx in other_project_contexts_idx]\n",
    "\n",
    "    this_project_contexts_idx = np.arange(len(contexts))[idx2project == idx2project[i]]\n",
    "    this_project_contexts = [contexts[idx] for idx in this_project_contexts_idx if idx != i]\n",
    "\n",
    "    assert len(other_project_contexts) + len(this_project_contexts) + 1 == len(contexts)\n",
    "\n",
    "    other_project_parts = []\n",
    "    for c in other_project_contexts:\n",
    "        other_project_parts.extend(c)\n",
    "\n",
    "    this_project_parts = []\n",
    "    for c in this_project_contexts:\n",
    "        this_project_parts.extend(c)\n",
    "\n",
    "    # res = [(p,'.') for p in context] + [(random.choice(other_project_parts), 'other') for _ in range(N)] + [(random.choice(this_project_parts), 'this') for _ in range(N)] \n",
    "    res = [(p,'.') for p in context] + [(random.choice(other_project_parts), 'other') for _ in range(N)]\n",
    "    random.shuffle(res)\n",
    "\n",
    "    return res\n",
    "\n",
    "new_data = [{'code': d['code_under_test'], 'scenarios': d['scenarios'], 'context': get_context(i)} for i, d in enumerate(data) if i != 8]\n",
    "\n",
    "with open('data.pkl', 'ab') as f:\n",
    "    pickle.dump(new_data, f)"
   ]
  }
 ],
 "metadata": {
  "kernelspec": {
   "display_name": "Python 3",
   "language": "python",
   "name": "python3"
  },
  "language_info": {
   "codemirror_mode": {
    "name": "ipython",
    "version": 3
   },
   "file_extension": ".py",
   "mimetype": "text/x-python",
   "name": "python",
   "nbconvert_exporter": "python",
   "pygments_lexer": "ipython3",
   "version": "3.10.12"
  }
 },
 "nbformat": 4,
 "nbformat_minor": 2
}
