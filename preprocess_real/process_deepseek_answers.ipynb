{
 "cells": [
  {
   "cell_type": "code",
   "execution_count": 2,
   "id": "1e9b9388",
   "metadata": {},
   "outputs": [
    {
     "name": "stdout",
     "output_type": "stream",
     "text": [
      "[[3, 12, 13, 17, 18, 19], [2, 4, 6], [5, 10, 16, 18, 23, 28, 32, 44, 48, 49, 55, 64, 65, 79, 82, 88, 94, 95, 98, 102, 103, 106], [0, 31, 35, 38, 44, 47, 51, 57], [2, 8, 10, 14], [3, 6, 9, 10], [3, 5, 10, 22, 28, 29, 38, 39, 42, 49, 53, 54, 56, 57, 58], [2, 3, 5, 7], [12, 19, 23, 25, 83], [4, 6, 7, 19, 23, 24, 31, 38], [1, 7], [5, 6, 14, 21, 22, 23, 26, 28], [0, 4, 5], [3, 5, 6, 21, 22, 23, 24, 26], [4, 6, 20, 23, 25, 31, 32, 41, 51, 55, 58, 59, 62], [4, 8, 22, 23, 29, 34, 36, 41, 45, 46, 48, 52]]\n"
     ]
    }
   ],
   "source": [
    "import pickle\n",
    "\n",
    "def load_integers_list(file_path):\n",
    "    with open(file_path, 'r', encoding='utf-8') as file:\n",
    "        content = file.read()\n",
    "    \n",
    "    # Удаляем начальный и конечный теги файла, если они есть\n",
    "    content = content.replace('[file content begin]', '').replace('[file content end]', '').strip()\n",
    "    \n",
    "    result = []\n",
    "    for line in content.split('\\n'):\n",
    "        if ':' in line:\n",
    "            # Разделяем строку по двоеточию и берем вторую часть\n",
    "            numbers_part = line.split(':', 1)[1].strip()\n",
    "            # Удаляем квадратные скобки и преобразуем в список целых чисел\n",
    "            numbers = [int(num.strip()) for num in numbers_part[1:-1].split(',') if num.strip()]\n",
    "            result.append(numbers)\n",
    "    \n",
    "    return result\n",
    "\n",
    "# Пример использования\n",
    "file_path = 'deepseekV3_answers.txt'\n",
    "loaded_list = load_integers_list(file_path)\n",
    "print(loaded_list)\n",
    "\n",
    "with open('deepseekV3_answers.pkl', 'wb') as f:\n",
    "    pickle.dump(loaded_list, f)"
   ]
  }
 ],
 "metadata": {
  "kernelspec": {
   "display_name": "Python 3",
   "language": "python",
   "name": "python3"
  },
  "language_info": {
   "codemirror_mode": {
    "name": "ipython",
    "version": 3
   },
   "file_extension": ".py",
   "mimetype": "text/x-python",
   "name": "python",
   "nbconvert_exporter": "python",
   "pygments_lexer": "ipython3",
   "version": "3.10.12"
  }
 },
 "nbformat": 4,
 "nbformat_minor": 5
}
